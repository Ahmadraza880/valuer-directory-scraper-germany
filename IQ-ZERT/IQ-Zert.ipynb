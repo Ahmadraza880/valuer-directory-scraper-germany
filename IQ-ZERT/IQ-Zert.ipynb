{
 "cells": [
  {
   "cell_type": "code",
   "execution_count": 14,
   "id": "b059c0c1",
   "metadata": {},
   "outputs": [],
   "source": [
    "from selenium import webdriver\n",
    "from selenium.webdriver.common.by import By\n",
    "from selenium.webdriver.common.keys import Keys\n",
    "from selenium.webdriver.chrome.options import Options\n",
    "from selenium.webdriver.chrome.service import Service\n",
    "from selenium.webdriver.support.ui import WebDriverWait\n",
    "from selenium.webdriver.support import expected_conditions as EC\n",
    "from selenium.common.exceptions import TimeoutException\n",
    "from webdriver_manager.chrome import ChromeDriverManager\n",
    "import time\n",
    "import pandas as pd\n",
    "import copy\n",
    "\n",
    "# Setup options\n",
    "options = Options()\n",
    "# options.add_argument(\"--headless\")  # Uncomment after testing\n",
    "options.add_argument(\"--window-size=1920,1080\")\n",
    "\n",
    "# Start the browser\n",
    "driver = webdriver.Chrome(service=Service(ChromeDriverManager().install()), options=options)\n",
    "wait = WebDriverWait(driver, 10)\n",
    "\n",
    "driver.get(\" https://www.iq-zert.de/personen_wertermittlung_akkr.html\")\n",
    "time.sleep(2)\n",
    "\n",
    "response=[]"
   ]
  },
  {
   "cell_type": "code",
   "execution_count": 15,
   "id": "cbb6d969",
   "metadata": {},
   "outputs": [],
   "source": [
    "def extract_results():\n",
    "    try:\n",
    "        expert_rows = WebDriverWait(driver, 10).until(\n",
    "            EC.presence_of_all_elements_located((By.XPATH, \"//tbody/tr\"))\n",
    "        )\n",
    "\n",
    "        for row in expert_rows:\n",
    "            try:\n",
    "                cols = row.find_elements(By.TAG_NAME, \"td\")\n",
    "                if len(cols) < 10:\n",
    "                    continue  # skip incomplete or empty rows\n",
    "\n",
    "                # Extract fields\n",
    "                last_name = cols[2].text.strip()\n",
    "                first_name = cols[3].text.strip()\n",
    "                full_name = f\"{first_name} {last_name}\".strip()\n",
    "\n",
    "                postcode = cols[5].text.strip()\n",
    "                location = cols[6].text.strip()\n",
    "                address = f\"{postcode} {location}\".strip()\n",
    "\n",
    "                phone = cols[7].text.strip()\n",
    "                email = cols[8].text.strip()\n",
    "                website = cols[9].text.strip()\n",
    "\n",
    "                # Append to response\n",
    "                response.append({\n",
    "                    \"Full Name\": full_name,\n",
    "                    \"Address\": address,\n",
    "                    \"Phone Number\": phone,\n",
    "                    \"Email Address\": email,\n",
    "                    \"Website\": website,\n",
    "                    \"Certification Type / Details\": \"\",  # Not available in this table\n",
    "                    \"Source Directory Name\": \"IQ-ZERT\"\n",
    "                })\n",
    "\n",
    "            except Exception as block_err:\n",
    "                print(f\"❗ Error extracting a row: {str(block_err)}\")\n",
    "\n",
    "    except TimeoutException:\n",
    "        print(\"⏱️ Timeout: No rows found; check table selector\")\n",
    "    except Exception as e:\n",
    "        print(f\"❗ Unexpected error: {str(e)}\")\n"
   ]
  },
  {
   "cell_type": "code",
   "execution_count": 16,
   "id": "81b49af8",
   "metadata": {},
   "outputs": [
    {
     "name": "stdout",
     "output_type": "stream",
     "text": [
      "🔁 All the Data Extract from the website\n"
     ]
    }
   ],
   "source": [
    "while True:\n",
    "    extract_results()\n",
    "    try:\n",
    "        next_button = driver.find_element(By.XPATH, '//a[@class=\"paginate_button next\"]')\n",
    "        driver.execute_script(\"arguments[0].click();\", next_button)\n",
    "        time.sleep(3)\n",
    "    except Exception as e:\n",
    "        print(f\"🔁 All the Data Extract from the website\")\n",
    "        break"
   ]
  },
  {
   "cell_type": "code",
   "execution_count": 17,
   "id": "b870a833",
   "metadata": {},
   "outputs": [
    {
     "name": "stdout",
     "output_type": "stream",
     "text": [
      "[{'Full Name': 'Ahmad Barjawi', 'Address': '69207 Sandhausen', 'Phone Number': '0157 58508176', 'Email Address': 'kontakt@wertweiser-immobilienbewertung.de', 'Website': 'www.wertweiser-immobilienbewertung.de', 'Certification Type / Details': '', 'Source Directory Name': 'IQ-ZERT'}, {'Full Name': 'Ahmadi Daryoush Torkaman', 'Address': '44809 Bochum', 'Phone Number': '0172 5665041', 'Email Address': 'daryo_18@hotmail.de', 'Website': '', 'Certification Type / Details': '', 'Source Directory Name': 'IQ-ZERT'}, {'Full Name': 'Alexander Mayrhofer', 'Address': '41061 Mönchengladbach', 'Phone Number': '02161 831496', 'Email Address': 'info@alexander-mayrhofer.de', 'Website': '', 'Certification Type / Details': '', 'Source Directory Name': 'IQ-ZERT'}, {'Full Name': 'Amadeus Bender', 'Address': '34125 Kassel', 'Phone Number': '01573 7545210', 'Email Address': 'amadeusbender@googlemail.com', 'Website': '', 'Certification Type / Details': '', 'Source Directory Name': 'IQ-ZERT'}, {'Full Name': 'Andreas Ruof', 'Address': '66111 Saarbrücken', 'Phone Number': '0681 9456392', 'Email Address': 'info@ruof-immobilienbewertung.de', 'Website': 'www.ruof-immobilienbewertung.de', 'Certification Type / Details': '', 'Source Directory Name': 'IQ-ZERT'}, {'Full Name': 'Andreas Ruof', 'Address': '92364 Deining', 'Phone Number': '09184 3994196', 'Email Address': 'info@ruof-immobilienbewertung.de', 'Website': 'www.ruof-immobilienbewertung.de', 'Certification Type / Details': '', 'Source Directory Name': 'IQ-ZERT'}, {'Full Name': 'Andreas Ruof', 'Address': '60325 Frankfurt am Main', 'Phone Number': '069 97546165', 'Email Address': 'info@ruof-immobilienbewertung.de', 'Website': 'www.ruof-immobilienbewertung.de', 'Certification Type / Details': '', 'Source Directory Name': 'IQ-ZERT'}, {'Full Name': 'Angela Krause', 'Address': '96135 Stegaurach', 'Phone Number': '0160 8006113', 'Email Address': 'info@immobilienbewertung-krause.de', 'Website': 'www.immobilienbewertung-krause.de', 'Certification Type / Details': '', 'Source Directory Name': 'IQ-ZERT'}, {'Full Name': 'Anja Mellies', 'Address': '29525 Uelzen', 'Phone Number': '0581 9735829', 'Email Address': 'info@anja-mellies.de', 'Website': 'www.gutachterin-anja-mellies.de', 'Certification Type / Details': '', 'Source Directory Name': 'IQ-ZERT'}, {'Full Name': 'Arne Reinbold', 'Address': '10829 Berlin', 'Phone Number': '0160 4802534', 'Email Address': 'info@reinbold-immowert.de', 'Website': 'www.reinbold-immowert.de', 'Certification Type / Details': '', 'Source Directory Name': 'IQ-ZERT'}, {'Full Name': 'Barbara Koch', 'Address': '76275 Ettlingen', 'Phone Number': '07243 9391012', 'Email Address': 'koch@koch-immobilienbewertung.de', 'Website': 'www.koch-immobilienbewertung.de', 'Certification Type / Details': '', 'Source Directory Name': 'IQ-ZERT'}, {'Full Name': 'Benedikt Hackl', 'Address': '84036 Landshut', 'Phone Number': '0871 2763639', 'Email Address': 'b.hackl@laurum-ingenieure.de', 'Website': 'www.laurum-ingenieure.de', 'Certification Type / Details': '', 'Source Directory Name': 'IQ-ZERT'}, {'Full Name': 'Bernd Buschmeier', 'Address': '48159 Münster', 'Phone Number': '0251 92774672', 'Email Address': 'mail@bernd-buschmeier.de', 'Website': 'www.bernd-buschmeier.de', 'Certification Type / Details': '', 'Source Directory Name': 'IQ-ZERT'}, {'Full Name': 'Bernd Horbach', 'Address': '52477 Alsdorf', 'Phone Number': '0172 7282217', 'Email Address': 'bernd-horbach@t-online.de', 'Website': '', 'Certification Type / Details': '', 'Source Directory Name': 'IQ-ZERT'}, {'Full Name': 'Bernhard Mathes', 'Address': '71229 Leonberg', 'Phone Number': '0176 64930010', 'Email Address': 'bema-immobilien@gmx.de', 'Website': 'www.bemaimmobilien.de', 'Certification Type / Details': '', 'Source Directory Name': 'IQ-ZERT'}, {'Full Name': 'Björn Sven Eisenlohr', 'Address': '67549 Worms', 'Phone Number': '06241 6003', 'Email Address': 'info@eisenlohr-partner.de', 'Website': '', 'Certification Type / Details': '', 'Source Directory Name': 'IQ-ZERT'}, {'Full Name': 'Carl Friedrich Wilke', 'Address': '86720 Nördlingen', 'Phone Number': '09081 2901892', 'Email Address': 'cfw-immobilien@gmx.de', 'Website': '', 'Certification Type / Details': '', 'Source Directory Name': 'IQ-ZERT'}, {'Full Name': 'Carsten Benedix', 'Address': '09599 Freiberg', 'Phone Number': '03731 1626330', 'Email Address': 'info@benedix-ai.de', 'Website': 'www.benedix-sv.de', 'Certification Type / Details': '', 'Source Directory Name': 'IQ-ZERT'}, {'Full Name': 'Christian Fischer', 'Address': '99334 Amt Wachsenburg', 'Phone Number': '0172 7078516', 'Email Address': 'info@wertgutachten-fischer.de', 'Website': 'www.wertgutachten-fischer.de', 'Certification Type / Details': '', 'Source Directory Name': 'IQ-ZERT'}, {'Full Name': 'Christian Knigge', 'Address': '20251 Hamburg', 'Phone Number': '040 35988778', 'Email Address': 'svb@knigge-immo.de', 'Website': 'www.knigge-immo.de', 'Certification Type / Details': '', 'Source Directory Name': 'IQ-ZERT'}, {'Full Name': 'Daniel Schneider', 'Address': '82194 Gröbenzell', 'Phone Number': '08142 650500', 'Email Address': '', 'Website': 'danielschneider.net', 'Certification Type / Details': '', 'Source Directory Name': 'IQ-ZERT'}, {'Full Name': 'Daniela Kracke', 'Address': '82131 Gauting', 'Phone Number': '089 36036268', 'Email Address': 'dk@daniela-kracke.de', 'Website': 'www.wertgutachten-kracke.de', 'Certification Type / Details': '', 'Source Directory Name': 'IQ-ZERT'}, {'Full Name': 'Dominique Zimmer', 'Address': '66763 Dillingen', 'Phone Number': '06831 97950', 'Email Address': 'architektin@d-zimmer.com', 'Website': 'www.d-zimmer.com', 'Certification Type / Details': '', 'Source Directory Name': 'IQ-ZERT'}, {'Full Name': 'Falk Eller', 'Address': '52064 Aachen', 'Phone Number': '0151 20188704', 'Email Address': 'info@eller-immo.de', 'Website': 'www.eller-immo.de', 'Certification Type / Details': '', 'Source Directory Name': 'IQ-ZERT'}, {'Full Name': 'Florian Hoffmann-Schiffer', 'Address': '83483 Bischofswiesen', 'Phone Number': '08652 6573550', 'Email Address': 'info@hoffmann-schiffer.de', 'Website': 'www.hoffmann-schiffer.de', 'Certification Type / Details': '', 'Source Directory Name': 'IQ-ZERT'}, {'Full Name': 'Frank Schley', 'Address': '66119 Saarbrücken', 'Phone Number': '0681 8836650', 'Email Address': 'schley@schley-trepic.de', 'Website': 'www.schley-trepic.de', 'Certification Type / Details': '', 'Source Directory Name': 'IQ-ZERT'}, {'Full Name': 'Gerhard Witte', 'Address': '52064 Aachen', 'Phone Number': '0241 900864', 'Email Address': '', 'Website': '', 'Certification Type / Details': '', 'Source Directory Name': 'IQ-ZERT'}, {'Full Name': 'Gregor Imo', 'Address': '68723 Oftersheim', 'Phone Number': '06202 9706062', 'Email Address': 'imo@ibrn.de', 'Website': 'www.ibrn.de', 'Certification Type / Details': '', 'Source Directory Name': 'IQ-ZERT'}, {'Full Name': 'Harald Neuhaus', 'Address': '66128 Saarbrücken Gersweiler', 'Phone Number': '', 'Email Address': 'neuhaus.h@gmx.de', 'Website': '', 'Certification Type / Details': '', 'Source Directory Name': 'IQ-ZERT'}, {'Full Name': 'Horst Prange', 'Address': '58332 Schwelm', 'Phone Number': '02336 7787', 'Email Address': 'info@schwelme.de', 'Website': 'www.immobiliengutachter.ruh', 'Certification Type / Details': '', 'Source Directory Name': 'IQ-ZERT'}, {'Full Name': 'Ivonne Martin', 'Address': '72218 Wildberg', 'Phone Number': '07054 6789346', 'Email Address': 'sv-martin@gmx.de', 'Website': 'www.sv-martin.de', 'Certification Type / Details': '', 'Source Directory Name': 'IQ-ZERT'}, {'Full Name': 'Jens Ullrich', 'Address': '06116 Halle', 'Phone Number': '0152 54657706', 'Email Address': 'info@immobilienbewertung-ullrich.de', 'Website': 'www.immobilienbewertung-ullrich.de', 'Certification Type / Details': '', 'Source Directory Name': 'IQ-ZERT'}, {'Full Name': 'Jessica Maaß', 'Address': '50997 Köln', 'Phone Number': '0163 2972082', 'Email Address': 'svmaass@outlook.de', 'Website': '', 'Certification Type / Details': '', 'Source Directory Name': 'IQ-ZERT'}, {'Full Name': 'Josef Staller', 'Address': '87751 Heimertingen', 'Phone Number': '0151 64093177', 'Email Address': 'staller@s-i.immo', 'Website': '', 'Certification Type / Details': '', 'Source Directory Name': 'IQ-ZERT'}, {'Full Name': 'Jörg Fischer', 'Address': '91058 Erlangen', 'Phone Number': '09131 75610', 'Email Address': 'j.fischer@fischer-partner.biz', 'Website': 'www.fmls-sachverstand.de', 'Certification Type / Details': '', 'Source Directory Name': 'IQ-ZERT'}, {'Full Name': 'Jörg-Michael Meyer', 'Address': '06108 Halle (Saale)', 'Phone Number': '0345 2090997', 'Email Address': 'meyer@verkehrswertermittlung24.de', 'Website': 'www.verkehrswertermittlung24.de', 'Certification Type / Details': '', 'Source Directory Name': 'IQ-ZERT'}, {'Full Name': 'Karin Busz', 'Address': '71229 Leonberg', 'Phone Number': '0176 24412117', 'Email Address': 'k.busz@gmx.de', 'Website': '', 'Certification Type / Details': '', 'Source Directory Name': 'IQ-ZERT'}, {'Full Name': 'Karl Ludwig Bräunig', 'Address': '64646 Heppenheim', 'Phone Number': '06252 9677410', 'Email Address': 'k.braeunig@gmx.de', 'Website': 'www.braeunig-consulting.com', 'Certification Type / Details': '', 'Source Directory Name': 'IQ-ZERT'}, {'Full Name': 'Katharina Schlömer', 'Address': '41569 Rommerskirchen', 'Phone Number': '0160 6580170', 'Email Address': 'info@immo-schloemer.de', 'Website': 'www.immo-schloemer.de', 'Certification Type / Details': '', 'Source Directory Name': 'IQ-ZERT'}, {'Full Name': 'Katrin Valerius', 'Address': '50935 Köln', 'Phone Number': '0221 16823463', 'Email Address': 'sv-arch-katrin-valerius@gmx.de', 'Website': 'www.katrin-valerius.de', 'Certification Type / Details': '', 'Source Directory Name': 'IQ-ZERT'}, {'Full Name': 'Kenneth Kooter', 'Address': '94469 Deggendorf', 'Phone Number': '0170 8227478', 'Email Address': 'k.kooter@ktc.bayern', 'Website': 'www.ktc.bayern', 'Certification Type / Details': '', 'Source Directory Name': 'IQ-ZERT'}, {'Full Name': 'Kenneth Kooter', 'Address': '93057 Regensburg', 'Phone Number': '0941 78836106', 'Email Address': 'info@ktc.bayern', 'Website': 'www.ktc.bayern', 'Certification Type / Details': '', 'Source Directory Name': 'IQ-ZERT'}, {'Full Name': 'Lars Kuntz', 'Address': '63785 Obernburg am Main', 'Phone Number': '0171 5838083', 'Email Address': 'kuntz-lars@web.de', 'Website': 'www.sv-kuntz.de', 'Certification Type / Details': '', 'Source Directory Name': 'IQ-ZERT'}, {'Full Name': 'Marc Louen', 'Address': '94253 Bischofsmais', 'Phone Number': '09920 7319012', 'Email Address': 'post@immowert-louen.de', 'Website': 'www.immowert-louen.de', 'Certification Type / Details': '', 'Source Directory Name': 'IQ-ZERT'}, {'Full Name': 'Marcello Kolmberger LL.M. / StB', 'Address': '83684 Tegernsee', 'Phone Number': '089 463038', 'Email Address': 'info@alphaimmobilienbewertung.de', 'Website': 'www.alphaimmobilienbewertung.de', 'Certification Type / Details': '', 'Source Directory Name': 'IQ-ZERT'}, {'Full Name': 'Marisa Reimann', 'Address': '70839 Gerlingen', 'Phone Number': '07156 433434', 'Email Address': 'sv.reimannmarisa@gmail.com', 'Website': 'www.sv-reimann.com', 'Certification Type / Details': '', 'Source Directory Name': 'IQ-ZERT'}, {'Full Name': 'Martin Holzwarth', 'Address': '83714 Miesbach', 'Phone Number': '08026 924953', 'Email Address': 'holzwarth@conprogeo.de', 'Website': '', 'Certification Type / Details': '', 'Source Directory Name': 'IQ-ZERT'}, {'Full Name': 'Martin Früh', 'Address': '81675 München', 'Phone Number': '089 15945543', 'Email Address': 'martinpeterfrueh@hotmail.com', 'Website': '', 'Certification Type / Details': '', 'Source Directory Name': 'IQ-ZERT'}, {'Full Name': 'Martin Busse', 'Address': '40593 Düsseldorf', 'Phone Number': '0211 82804630', 'Email Address': 'martin@busse-partner.info', 'Website': 'www.busse-partner.de', 'Certification Type / Details': '', 'Source Directory Name': 'IQ-ZERT'}, {'Full Name': 'Martina Willms', 'Address': '52072 Aachen', 'Phone Number': '0241 92042777', 'Email Address': 'info@mwillms-sachverstaendigenbuero.de', 'Website': 'www.mwillms-sachverstaendigenbuero.de', 'Certification Type / Details': '', 'Source Directory Name': 'IQ-ZERT'}, {'Full Name': 'Matthias Reiter', 'Address': '85570 Markt Schwaben', 'Phone Number': '08121 7929742\\n01579 2490475', 'Email Address': 'matthiasreiter@hotmail.com\\ninfo@immobilienbewertung-reiter.de', 'Website': 'www.immobilienbewertung-reiter.de', 'Certification Type / Details': '', 'Source Directory Name': 'IQ-ZERT'}, {'Full Name': 'Matthias Weppler', 'Address': '30657 Hannover', 'Phone Number': '0511 64060300', 'Email Address': 'info@wertermittlung-immobilien.com', 'Website': 'www.wertermittlung-immobilien.com', 'Certification Type / Details': '', 'Source Directory Name': 'IQ-ZERT'}, {'Full Name': 'Maximilian Bräuer', 'Address': '01309 Dresden', 'Phone Number': '0351 89697818', 'Email Address': 'info@braeuer-immobilienbewertung.de', 'Website': 'www.braeuer-immobilienbewertung.de', 'Certification Type / Details': '', 'Source Directory Name': 'IQ-ZERT'}, {'Full Name': 'Maximilian Vierneisel', 'Address': '42781 Haan', 'Phone Number': '0170 4175316', 'Email Address': 'maxvierneisel@googlemail.com', 'Website': '', 'Certification Type / Details': '', 'Source Directory Name': 'IQ-ZERT'}, {'Full Name': 'Maximilian Nirschl', 'Address': '80638 München', 'Phone Number': '0151 65030443', 'Email Address': 'info@sachverstaendige-nirschl.de', 'Website': 'www.sachverstaendige-nirschl.de', 'Certification Type / Details': '', 'Source Directory Name': 'IQ-ZERT'}, {'Full Name': 'Michael Schmid', 'Address': '82166 Gräfelfing', 'Phone Number': '089 82086826', 'Email Address': 'ms@immo-expert.de', 'Website': 'www.immo-expert.de', 'Certification Type / Details': '', 'Source Directory Name': 'IQ-ZERT'}, {'Full Name': 'Michael Kleisel', 'Address': '85716 Unterschleißheim', 'Phone Number': '089 4309470', 'Email Address': 'kleisel.gutachter@web.de', 'Website': 'www.immonetworx.expert.de', 'Certification Type / Details': '', 'Source Directory Name': 'IQ-ZERT'}, {'Full Name': 'Michael Blum', 'Address': '72762 Reutlingen', 'Phone Number': '07121 9264272', 'Email Address': 'michael.blum@blum-immowert.eu', 'Website': 'www.blum-.immowert.eu', 'Certification Type / Details': '', 'Source Directory Name': 'IQ-ZERT'}, {'Full Name': 'Michaela Haase', 'Address': '27283 Verden', 'Phone Number': '04231 930683', 'Email Address': 'mail@haase-immo.com', 'Website': 'www.haase-immo.com', 'Certification Type / Details': '', 'Source Directory Name': 'IQ-ZERT'}, {'Full Name': 'Murat Vural', 'Address': '41460 Neuss', 'Phone Number': '0151 59182498', 'Email Address': 'kontakt@mv-immobilienbewertung.de', 'Website': 'www.mv-immobilienbewertung.de', 'Certification Type / Details': '', 'Source Directory Name': 'IQ-ZERT'}, {'Full Name': 'Nenad Nikolic', 'Address': '70378 Stuttgart', 'Phone Number': '0711 31550197', 'Email Address': 'info@haug-kollegen.de', 'Website': 'www.haug-kollegen.de', 'Certification Type / Details': '', 'Source Directory Name': 'IQ-ZERT'}, {'Full Name': 'Nicolas Schütz', 'Address': '91522 Ansbach', 'Phone Number': '0170 46 3894', 'Email Address': 'info@schuetz-immobilienwerte.de', 'Website': 'www.schuetz-immobilienwerte.de', 'Certification Type / Details': '', 'Source Directory Name': 'IQ-ZERT'}, {'Full Name': 'Peter Linner', 'Address': '80336 München', 'Phone Number': '089 95449275', 'Email Address': 'p.linner@linnerrichter.de', 'Website': 'www.linnerrichter.de', 'Certification Type / Details': '', 'Source Directory Name': 'IQ-ZERT'}, {'Full Name': 'Petra Becker-Morhain', 'Address': '66359 Bous', 'Phone Number': '06834 1387', 'Email Address': 'petra.morhain@orange.fr', 'Website': '', 'Certification Type / Details': '', 'Source Directory Name': 'IQ-ZERT'}, {'Full Name': 'Rachel Staudt', 'Address': '66809 Nalbach', 'Phone Number': '06838 9740425', 'Email Address': 'rachel.staudt@gmx.de', 'Website': '', 'Certification Type / Details': '', 'Source Directory Name': 'IQ-ZERT'}, {'Full Name': 'Ralph-René Zacharias', 'Address': '14055 Berlin', 'Phone Number': '030 688372-51\\nFax -39', 'Email Address': 'berlin@ibbi-online.de', 'Website': 'www.ibbi-online.de', 'Certification Type / Details': '', 'Source Directory Name': 'IQ-ZERT'}, {'Full Name': 'Ralph-René Zacharias', 'Address': '85276 Paffenhofen an der Ilm', 'Phone Number': '08441 859896-0\\nFax -2', 'Email Address': 'zacharias@ibbi-online.de', 'Website': 'www.ibbi-online', 'Certification Type / Details': '', 'Source Directory Name': 'IQ-ZERT'}, {'Full Name': 'Roland Derfuß', 'Address': '91077 Neunkirchen am Brand', 'Phone Number': '', 'Email Address': 'sachverstaendigenbuero-derfuss@web.de', 'Website': '', 'Certification Type / Details': '', 'Source Directory Name': 'IQ-ZERT'}, {'Full Name': 'Rouven Wulf', 'Address': '49740 Haselünne', 'Phone Number': '05961 940075', 'Email Address': 'r.wulf@vrimmoservice.de', 'Website': 'www.vbhaseluenne.de', 'Certification Type / Details': '', 'Source Directory Name': 'IQ-ZERT'}, {'Full Name': 'Sebastian Läpple', 'Address': '73630 Remshalden', 'Phone Number': '07151 3606110', 'Email Address': 'info@laepple-immowert.de', 'Website': 'www.laepple-immowert.de', 'Certification Type / Details': '', 'Source Directory Name': 'IQ-ZERT'}, {'Full Name': 'Thomas Braun', 'Address': '04316 Leipzig', 'Phone Number': '0800 6647011\\n0151 40129681', 'Email Address': 'mailbox@braun-immowert.de', 'Website': 'www.braun-immowert.de', 'Certification Type / Details': '', 'Source Directory Name': 'IQ-ZERT'}, {'Full Name': 'Thomas Braun', 'Address': '45133 Essen', 'Phone Number': '0800 6647011\\n0151 40129681', 'Email Address': 'mailbox@braun-immowert.de', 'Website': 'www.braun-immowert.de', 'Certification Type / Details': '', 'Source Directory Name': 'IQ-ZERT'}, {'Full Name': 'Thomas Nippe', 'Address': '53721 Siegburg', 'Phone Number': '02241 9769375', 'Email Address': 'info@tn-wert.de', 'Website': '', 'Certification Type / Details': '', 'Source Directory Name': 'IQ-ZERT'}, {'Full Name': 'Thomas Kugel', 'Address': '54338 Schweich', 'Phone Number': '06502 9356760', 'Email Address': 'info@tomconceptgmbh.de', 'Website': '', 'Certification Type / Details': '', 'Source Directory Name': 'IQ-ZERT'}, {'Full Name': 'Thomas Eulenpesch', 'Address': '47546 Kalkar', 'Phone Number': '02824 133910-0', 'Email Address': 'te@gutachter.immo', 'Website': 'www.gutachter.immo', 'Certification Type / Details': '', 'Source Directory Name': 'IQ-ZERT'}, {'Full Name': 'Thomas Hund', 'Address': '39291 Schermen', 'Phone Number': '0391 6229516', 'Email Address': 'sv-thomas-hund@t-online.de', 'Website': 'www.immobilienbewertung-magdeburg24.de', 'Certification Type / Details': '', 'Source Directory Name': 'IQ-ZERT'}, {'Full Name': 'Tim Boldorf', 'Address': '54338 Schweich', 'Phone Number': '06502 4046021', 'Email Address': 'info@tim-boldorf-immobilien.de', 'Website': 'www.tim-boldorf-immobilien.de', 'Certification Type / Details': '', 'Source Directory Name': 'IQ-ZERT'}, {'Full Name': 'Ulrich Rauch', 'Address': '41236 Mönchengladbach', 'Phone Number': '01520 7128671', 'Email Address': 'ur-immowest@web.de', 'Website': '', 'Certification Type / Details': '', 'Source Directory Name': 'IQ-ZERT'}, {'Full Name': 'Uwe Hoffmann', 'Address': '06712 Zeitz', 'Phone Number': '03441 221807', 'Email Address': 'info@immobilienbewertung-hoffmann.de', 'Website': 'www.immobilienbewertung-hoffmann.de', 'Certification Type / Details': '', 'Source Directory Name': 'IQ-ZERT'}, {'Full Name': 'Vanessa La Bunda', 'Address': '42699 Solingen', 'Phone Number': '0212 78170604', 'Email Address': 'v.lablunda@vogel-sv.de', 'Website': 'www.vogel-sv.de', 'Certification Type / Details': '', 'Source Directory Name': 'IQ-ZERT'}, {'Full Name': 'Werner Thiel', 'Address': '53229 Bonn', 'Phone Number': '0173 8371564', 'Email Address': 'info@gst-immobilienbewertung.de', 'Website': 'www.gst-immobilienbewertung.de', 'Certification Type / Details': '', 'Source Directory Name': 'IQ-ZERT'}]\n"
     ]
    }
   ],
   "source": [
    "print(response)"
   ]
  },
  {
   "cell_type": "code",
   "execution_count": 18,
   "id": "a9fccbb9",
   "metadata": {},
   "outputs": [
    {
     "name": "stdout",
     "output_type": "stream",
     "text": [
      "🔎 Original: 81 entries\n"
     ]
    }
   ],
   "source": [
    "backup_response = copy.deepcopy(response)\n",
    "print(f\"🔎 Original: {len(backup_response)} entries\")"
   ]
  },
  {
   "cell_type": "code",
   "execution_count": 19,
   "id": "5b76e054",
   "metadata": {},
   "outputs": [
    {
     "name": "stdout",
     "output_type": "stream",
     "text": [
      "✅ After cleaning: 81 entries\n"
     ]
    }
   ],
   "source": [
    "# Clean: remove entries without an address\n",
    "response = [entry for entry in response if entry.get(\"Address\")]\n",
    "print(f\"✅ After cleaning: {len(response)} entries\")"
   ]
  },
  {
   "cell_type": "code",
   "execution_count": 21,
   "id": "9ed1d75a",
   "metadata": {},
   "outputs": [],
   "source": [
    "df = pd.DataFrame(response)\n",
    "df.drop_duplicates(inplace=True)\n",
    "df.to_csv(\"IQ-ZERT_results.csv\", index=False)\n",
    "df.to_excel(\"IQ-ZERT_results.xlsx\", index=False)"
   ]
  },
  {
   "cell_type": "code",
   "execution_count": null,
   "id": "7bdf136f",
   "metadata": {},
   "outputs": [],
   "source": []
  }
 ],
 "metadata": {
  "kernelspec": {
   "display_name": "Python 3",
   "language": "python",
   "name": "python3"
  },
  "language_info": {
   "codemirror_mode": {
    "name": "ipython",
    "version": 3
   },
   "file_extension": ".py",
   "mimetype": "text/x-python",
   "name": "python",
   "nbconvert_exporter": "python",
   "pygments_lexer": "ipython3",
   "version": "3.10.11"
  }
 },
 "nbformat": 4,
 "nbformat_minor": 5
}
